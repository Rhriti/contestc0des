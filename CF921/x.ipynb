{
 "cells": [
  {
   "cell_type": "code",
   "execution_count": 6,
   "metadata": {},
   "outputs": [
    {
     "name": "stdout",
     "output_type": "stream",
     "text": [
      "[]\n"
     ]
    }
   ],
   "source": [
    "for _ in range(int(input())):\n",
    "    n,m,k=map(int,input().split())\n",
    "    s=input()\n",
    "    need=k-1\n",
    "    g={}\n",
    "    for ele in range(ord('a'),ord('z')+1):g[chr(ele)]=0\n",
    "    sets=set(chr(ele) for ele in range(ord('a'),ord('a')+k))\n",
    "    f=True\n",
    "    final=''\n",
    "    for ele in s:\n",
    "        g[ele]-=1\n",
    "\n",
    "        if ele in sets:\n",
    "            for k,v in g.items():\n",
    "                if v<need:\n",
    "                    f=False\n",
    "                    final=ele+need*k\n",
    "                    break\n",
    "            sets.remove(ele)\n",
    "        \n",
    "    if not f:\n",
    "        print('NO')\n",
    "        print(final)\n",
    "    else:\n",
    "        if len(sets)==0:print('YES')\n",
    "        else:\n",
    "            print('NO')\n",
    "            print(final)\n",
    "\n",
    "\n",
    "\n"
   ]
  }
 ],
 "metadata": {
  "kernelspec": {
   "display_name": "Python 3",
   "language": "python",
   "name": "python3"
  },
  "language_info": {
   "codemirror_mode": {
    "name": "ipython",
    "version": 3
   },
   "file_extension": ".py",
   "mimetype": "text/x-python",
   "name": "python",
   "nbconvert_exporter": "python",
   "pygments_lexer": "ipython3",
   "version": "3.9.4"
  }
 },
 "nbformat": 4,
 "nbformat_minor": 2
}
