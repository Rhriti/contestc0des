{
 "cells": [
  {
   "cell_type": "code",
   "execution_count": 3,
   "metadata": {},
   "outputs": [
    {
     "name": "stdout",
     "output_type": "stream",
     "text": [
      "9 0b1001\n",
      "6 0b110\n",
      "9 ^ 0 is  9\n",
      "9 ^ 1 is  8\n",
      "9 ^ 2 is  11\n",
      "9 ^ 3 is  10\n",
      "9 ^ 4 is  13\n",
      "9 ^ 5 is  12\n",
      "9 ^ 6 is  15\n",
      "9 ^ 7 is  14\n",
      "9 ^ 8 is  1\n",
      "9 ^ 9 is  0\n",
      "9 ^ 10 is  3\n"
     ]
    }
   ],
   "source": [
    "print(9,bin(9))\n",
    "print(6,bin(6))\n",
    "\n",
    "for ele in range(11):\n",
    "    print(f'9 ^ {ele} is ',9^ele)\n"
   ]
  }
 ],
 "metadata": {
  "kernelspec": {
   "display_name": "Python 3",
   "language": "python",
   "name": "python3"
  },
  "language_info": {
   "codemirror_mode": {
    "name": "ipython",
    "version": 3
   },
   "file_extension": ".py",
   "mimetype": "text/x-python",
   "name": "python",
   "nbconvert_exporter": "python",
   "pygments_lexer": "ipython3",
   "version": "3.11.3"
  }
 },
 "nbformat": 4,
 "nbformat_minor": 2
}
