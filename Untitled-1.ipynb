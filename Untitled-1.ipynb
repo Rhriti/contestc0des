{
 "cells": [
  {
   "cell_type": "code",
   "execution_count": 2,
   "metadata": {},
   "outputs": [],
   "source": [
    "import re"
   ]
  },
  {
   "cell_type": "code",
   "execution_count": 3,
   "metadata": {},
   "outputs": [
    {
     "data": {
      "text/plain": [
       "['9991116666', '(999)-333-7777']"
      ]
     },
     "execution_count": 3,
     "metadata": {},
     "output_type": "execute_result"
    }
   ],
   "source": [
    "text='''\n",
    "Elon musk's phone number is 9991116666, call him if you have any questions on dodgecoin. Tesla's revenue is 40 billion\n",
    "Tesla's CFO number (999)-333-7777\n",
    "'''\n",
    "\n",
    "pattern='\\(\\d{3}\\)-\\d{3}-\\d{4}|\\d{10}'   #use \\ to open and close round brackets ok\n",
    "matches=re.findall(pattern,text)\n",
    "matches"
   ]
  },
  {
   "cell_type": "code",
   "execution_count": 4,
   "metadata": {},
   "outputs": [],
   "source": [
    "text = '''\n",
    "Note 1 - Overview\n",
    "Tesla, Inc. (“Tesla”, the “Company”, “we”, “us” or “our”) was incorporated in the State of Delaware on July 1, 2003. We design, develop, manufacture and sell high-performance fully electric vehicles and design, manufacture, install and sell solar energy generation and energy storage\n",
    "products. Our Chief Executive Officer, as the chief operating decision maker (“CODM”), organizes our company, manages resource allocations and measures performance among two operating and reportable segments: (i) automotive and (ii) energy generation and storage.\n",
    "Beginning in the first quarter of 2021, there has been a trend in many parts of the world of increasing availability and administration of vaccines\n",
    "against COVID-19, as well as an easing of restrictions on social, business, travel and government activities and functions. On the other hand, infection\n",
    "rates and regulations continue to fluctuate in various regions and there are ongoing global impacts resulting from the pandemic, including challenges\n",
    "and increases in costs for logistics and supply chains, such as increased port congestion, intermittent supplier delays and a shortfall of semiconductor\n",
    "supply. We have also previously been affected by temporary manufacturing closures, employment and compensation adjustments and impediments to\n",
    "administrative activities supporting our product deliveries and deployments.\n",
    "Note 2 - Summary of Significant Accounting Policies\n",
    "Note 12 - Life of a fucker\n",
    "Unaudited Interim Financial Statements\n",
    "The consolidated balance sheet as of September 30, 2021, the consolidated statements of operations, the consolidated statements of\n",
    "comprehensive income, the consolidated statements of redeemable noncontrolling interests and equity for the three and nine months ended September\n",
    "30, 2021 and 2020 and the consolidated statements of cash flows for the nine months ended September 30, 2021 and 2020, as well as other information\n",
    "disclosed in the accompanying notes, are unaudited. The consolidated balance sheet as of December 31, 2020 was derived from the audited\n",
    "consolidated financial statements as of that date. The interim consolidated financial statements and the accompanying notes should be read in\n",
    "conjunction with the annual consolidated financial statements and the accompanying notes contained in our Annual Report on Form 10-K for the year\n",
    "ended December 31, 2020.\n",
    "\n",
    "'''"
   ]
  },
  {
   "cell_type": "code",
   "execution_count": 5,
   "metadata": {},
   "outputs": [
    {
     "data": {
      "text/plain": [
       "['Overview', 'Summary of Significant Accounting Policies', 'Life of a fucker']"
      ]
     },
     "execution_count": 5,
     "metadata": {},
     "output_type": "execute_result"
    }
   ],
   "source": [
    "pattern_words_starting_with_ac='\\bac\\w*\\b'\n",
    "pattern_all_char_and_non_char='\\w*\\W*' #w for char and W for non char\n",
    "pattern='\\bac\\w*re\\b'  #all the words whose starting characters is 'ac' and ending is 're' this may include '123acre' or 'acre344' \n",
    "pattern='\\bac[a-zA-Z]\\w*re[a-zA-Z]\\b'   #words starting with char 'ac' in fisrt place and ending with 're' last place\n",
    "pattern_new='Note \\d* - ([^\\n]*)'   #now this is what i meant and was looking for \n",
    "re.findall(pattern_new,text)\n"
   ]
  },
  {
   "cell_type": "code",
   "execution_count": 16,
   "metadata": {},
   "outputs": [
    {
     "data": {
      "text/plain": [
       "['FY2021 Q1 was $4.85', 'FY2020 Q4 it was $3 ']"
      ]
     },
     "execution_count": 16,
     "metadata": {},
     "output_type": "execute_result"
    }
   ],
   "source": [
    "text = '''\n",
    "The gross cost of operating lease vehicles in FY2021 Q1 was $4.85 billion.\n",
    "In previous quarter i.e. FY2020 Q4 it was $3 billion. fy2020 Q3\n",
    "'''\n",
    "pattern='FY\\d{4} Q[1234]'     #[abc] iff a or b or c\n",
    "matches=re.findall(pattern,text,flags=re.IGNORECASE)\n",
    "matches\n",
    "patten2='\\$\\d*| \\$\\d\\.\\d*'   #hello motherfucker\n",
    "re.findall(patten2,text)\n",
    "# pattern3='FY\\d{4} Q[1234].*\\$(\\d*(.\\d+)?)'\n",
    "pattern3='FY\\d{4} Q[1234].*\\$(?:\\d*(?:.\\d+)?)'\n",
    "pattern4='FY\\d{4} Q[1234][^$]*\\$(?:\\d*(?:.\\d*))'\n",
    "re.findall(pattern3,text)\n",
    "re.findall(pattern4,text)\n"
   ]
  },
  {
   "cell_type": "code",
   "execution_count": 3,
   "metadata": {},
   "outputs": [
    {
     "name": "stdout",
     "output_type": "stream",
     "text": [
      "100000\n",
      "1101\n",
      "101101\n"
     ]
    }
   ],
   "source": [
    "print(bin(32)[2:])\n",
    "print(bin(13)[2:])\n",
    "print(bin(45)[2:])"
   ]
  },
  {
   "cell_type": "code",
   "execution_count": 5,
   "metadata": {},
   "outputs": [
    {
     "data": {
      "text/plain": [
       "['0', '1', '0', '1', '0', '1', '0', '1']"
      ]
     },
     "execution_count": 5,
     "metadata": {},
     "output_type": "execute_result"
    }
   ],
   "source": [
    "s='0110111010111'\n",
    "#sare 1s ko ek sath krde mere bhai\n",
    "i=0\n",
    "st=[]\n",
    "while i<len(s):\n",
    "    if s[i]=='0':st.append('0');i+=1;continue\n",
    "    else:\n",
    "        while i<len(s) and s[i]=='1':i+=1\n",
    "        st.append('1')\n",
    "\n",
    "st\n"
   ]
  },
  {
   "cell_type": "code",
   "execution_count": 1,
   "metadata": {},
   "outputs": [
    {
     "name": "stdout",
     "output_type": "stream",
     "text": [
      "9\n"
     ]
    }
   ],
   "source": [
    "for i in range(10):\n",
    "    pass\n",
    "print(i)"
   ]
  }
 ],
 "metadata": {
  "kernelspec": {
   "display_name": "Python 3",
   "language": "python",
   "name": "python3"
  },
  "language_info": {
   "codemirror_mode": {
    "name": "ipython",
    "version": 3
   },
   "file_extension": ".py",
   "mimetype": "text/x-python",
   "name": "python",
   "nbconvert_exporter": "python",
   "pygments_lexer": "ipython3",
   "version": "3.11.3"
  }
 },
 "nbformat": 4,
 "nbformat_minor": 2
}
